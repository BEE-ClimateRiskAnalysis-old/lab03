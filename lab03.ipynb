{
 "cells": [
  {
   "cell_type": "markdown",
   "metadata": {},
   "source": [
    "# Lab 3 - Uncertainty and Simple Climate Models\n",
    "**Due**: Monday, 2/13 by 1:00pm."
   ]
  },
  {
   "cell_type": "markdown",
   "metadata": {},
   "source": [
    "Make sure you include your name and ID below for submission. <br>\n",
    "**Name**:  <br>\n",
    "**ID**:"
   ]
  },
  {
   "cell_type": "markdown",
   "metadata": {},
   "source": [
    "## Contents"
   ]
  },
  {
   "cell_type": "code",
   "execution_count": 1,
   "metadata": {},
   "outputs": [
    {
     "name": "stderr",
     "output_type": "stream",
     "text": [
      "\u001b[32m\u001b[1m  Activating\u001b[22m\u001b[39m project at `~/Teaching/BEE6940/labs/lab03`\n"
     ]
    }
   ],
   "source": [
    "# load project environment\n",
    "import Pkg # load the Pkg package manager\n",
    "Pkg.activate(@__DIR__) # activate the environment in the directory of the script file\n",
    "Pkg.instantiate() # make sure all of the needed packages are installed with correct versions"
   ]
  },
  {
   "cell_type": "markdown",
   "metadata": {},
   "source": [
    "---"
   ]
  },
  {
   "cell_type": "markdown",
   "metadata": {},
   "source": [
    "## Exercises"
   ]
  },
  {
   "cell_type": "markdown",
   "metadata": {},
   "source": [
    "Complete the following exercises. Convert your completed notebook to a PDF and submit it to the Gradescope Assignment \"Lab 3\"."
   ]
  },
  {
   "cell_type": "markdown",
   "metadata": {},
   "source": [
    "Remember to evaluate all of your code cells, in order (using a Run All command). This will make sure all output is visible and that the code cells were evaluated in the correct order."
   ]
  },
  {
   "cell_type": "markdown",
   "metadata": {},
   "source": [
    "### Introduction\n",
    "\n",
    "As we discussed in class, general circulation models (GCMs, or global climate models) are computationally expensive, and difficult to run many times. Simple climate models (SCMs) are a solution: they use simplified energy-balance and (sometimes) carbon-cycle dynamics and output aggregated measures such as global mean temperature and ocean heat content. Finer-scale climate dynamics, which require representations of atmospheric and ocean circulations and more complex thermodynamics, are usually neglected. But by virtue of their simplicity, SCMs can be used to emulate more complex models; they can be:\n",
    "- run many more times;\n",
    "- and can be forced with almost arbitrary emissions and/or radiative forcings.\n",
    "This makes SCMs useful for uncertainty and risk analyses."
   ]
  },
  {
   "cell_type": "markdown",
   "metadata": {},
   "source": [
    "### Exercise 1: Running SNEASY\n",
    "\n",
    "In this exercise, you will load and run SNEASY, a Simple Nonlinear EArth SYstem model ([Urban and Keller (2010)](https://dx.doi.org/10.1111/j.1600-0870.2010.00471.x)). We won't get into the details of SNEASY, but it includes the following modules:\n",
    "- Climate (DOECLIM), which is an energy-balance model of the atmosphere and a 1-dimensional ocean model;\n",
    "- Carbon-cycle, which models terrestrial and oceanic carbon sinks and sources in aggregate;\n",
    "- A box model of the Atlantic meridional overturning circculation (AMOC), which we will ignore.\n",
    "\n",
    "We will use the [`Mimi` framework](https://www.mimiframework.org/) for integrated assessment modeling in Julia, which includes a version of SNEASY for use with these models. `MimiSNEASY.jl` is included in your lab project environment."
   ]
  },
  {
   "cell_type": "markdown",
   "metadata": {},
   "source": [
    "First, let's load `MimiSNEASY.jl` and set some default parameters. SNEASY has around 10 parameters, but here we're going to focus on equilibrium climate sensitivity (`t2co`), ocean heat diffusivity (`kappa`), aerosol scaling (`alpha`), and carbon respiration temperature sensitivity (`Q10`). We'll set all of the parameters to default values corresponding to the best model fit (more on this in a few weeks), and then update them as needed.\n",
    "\n",
    "The Mimi API can be a little involved, so we've provided you with several functions (in `src/sneasy_model_functions.jl`) which simplify things for the purpose of this lab. Feel free to look through this file and ask any questions about syntax!\n",
    "These functions are:\n",
    "- `create_sneasy_model(; rcp_scenario=\"RCP85\", start_year=1765, end_year=2100)`: create a MimiSNEASY model instance corresponding to a particular RCP.\n",
    "- `set_sneasy_params!(m, params, parnames)`: change parameters in a MimiSNEASY model `m` based on a value vector `params` and a name vector `parnames`, which should match.\n",
    "- `query_temperature(m, model_years, query_years)`: query global mean temperature anomalies, relative to the 1861-1880 mean.\n",
    "\n",
    "Note the exclamation mark at the end of the `set_sneasy_params!() function`: this indicates that it modifies the input in-place instead of creating a new object. This is standard Julia naming convention."
   ]
  },
  {
   "cell_type": "code",
   "execution_count": 10,
   "metadata": {},
   "outputs": [],
   "source": [
    "# load the Mimi.jl base package and the MimiSNEASY model, as well as CSVFiles.jl (to read .csv files) and DataFrames.jl (to work with tabular data). Also load Plots.jl for plotting later.\n",
    "using Mimi\n",
    "using MimiSNEASY\n",
    "using CSVFiles\n",
    "using DataFrames\n",
    "using Plots\n",
    "\n",
    "include(\"src/sneasy_model_functions.jl\") # load helper functions\n",
    "# set up array of model years; this aligns with defaults, but we'll want to use this to query and normalize later\n",
    "start_year = 1765\n",
    "end_year = 2100\n",
    "model_years = collect(start_year:end_year);"
   ]
  },
  {
   "cell_type": "markdown",
   "metadata": {},
   "source": [
    "Let's create the model object. For now, we'll just use RCP 8.5."
   ]
  },
  {
   "cell_type": "code",
   "execution_count": 21,
   "metadata": {},
   "outputs": [
    {
     "data": {
      "text/plain": [
       "Mimi.Model\n",
       "  Module: Mimi\n",
       "  Components:\n",
       "    ComponentId(MimiSNEASY.rfco2)\n",
       "    ComponentId(MimiSNEASY.radiativeforcing)\n",
       "    ComponentId(MimiSNEASY.doeclim)\n",
       "    ComponentId(MimiSNEASY.ccm)\n",
       "  Built: false\n"
      ]
     },
     "execution_count": 21,
     "metadata": {},
     "output_type": "execute_result"
    }
   ],
   "source": [
    "m = create_sneasy_model(rcp_scenario=\"RCP85\", start_year=start_year, end_year=end_year)"
   ]
  },
  {
   "cell_type": "markdown",
   "metadata": {},
   "source": [
    "The default parameters in MimiSNEASY are not useful; they're just defaults, but won't let us get a sensible output. Next, we will use `set_sneasy_params!()` to set best-fit parameter values. We'll discuss what we mean by \"best fit\" in the next part of the class.\n",
    "\n",
    "Load the parameter set using `load()` from `CSVFiles.jl`. We'll also convert this to a `DataFrame` object, which is a nice package for working with tabular data (more on `DataFrame` in a subsequent exercise). This parameter set came from calibration of SNEASY and an ice-sheet model, so there are a lot more parameters than we need, but the `set_sneasy_params!()`` function takes care of that."
   ]
  },
  {
   "cell_type": "code",
   "execution_count": 16,
   "metadata": {},
   "outputs": [],
   "source": [
    "parameters = DataFrame(load(joinpath(@__DIR__, \"params\",\"parameters_subsample_sneasybrick.csv\")));"
   ]
  },
  {
   "cell_type": "markdown",
   "metadata": {},
   "source": [
    "The best-fit parameter vector is row 6340, so let's set the parameters to that value."
   ]
  },
  {
   "cell_type": "code",
   "execution_count": 22,
   "metadata": {},
   "outputs": [],
   "source": [
    "set_sneasy_params!(m, parameters[6340, :], names(parameters))"
   ]
  },
  {
   "cell_type": "markdown",
   "metadata": {},
   "source": [
    "Run the model:"
   ]
  },
  {
   "cell_type": "code",
   "execution_count": 23,
   "metadata": {},
   "outputs": [],
   "source": [
    "run(m)"
   ]
  },
  {
   "attachments": {},
   "cell_type": "markdown",
   "metadata": {},
   "source": [
    "Finally, let's query and plot temperatures from 1850 to 2100."
   ]
  },
  {
   "cell_type": "code",
   "execution_count": 25,
   "metadata": {},
   "outputs": [
    {
     "data": {
      "image/svg+xml": "<?xml version=\"1.0\" encoding=\"utf-8\"?>\n<svg xmlns=\"http://www.w3.org/2000/svg\" xmlns:xlink=\"http://www.w3.org/1999/xlink\" width=\"600\" height=\"400\" viewBox=\"0 0 2400 1600\">\n<defs>\n  <clipPath id=\"clip160\">\n    <rect x=\"0\" y=\"0\" width=\"2400\" height=\"1600\"/>\n  </clipPath>\n</defs>\n<path clip-path=\"url(#clip160)\" d=\"M0 1600 L2400 1600 L2400 0 L0 0  Z\" fill=\"#ffffff\" fill-rule=\"evenodd\" fill-opacity=\"1\"/>\n<defs>\n  <clipPath id=\"clip161\">\n    <rect x=\"480\" y=\"0\" width=\"1681\" height=\"1600\"/>\n  </clipPath>\n</defs>\n<path clip-path=\"url(#clip160)\" d=\"M175.445 1423.18 L2352.76 1423.18 L2352.76 47.2441 L175.445 47.2441  Z\" fill=\"#ffffff\" fill-rule=\"evenodd\" fill-opacity=\"1\"/>\n<defs>\n  <clipPath id=\"clip162\">\n    <rect x=\"175\" y=\"47\" width=\"2178\" height=\"1377\"/>\n  </clipPath>\n</defs>\n<polyline clip-path=\"url(#clip162)\" style=\"stroke:#000000; stroke-linecap:round; stroke-linejoin:round; stroke-width:2; stroke-opacity:0.1; fill:none\" points=\"237.067,1423.18 237.067,47.2441 \"/>\n<polyline clip-path=\"url(#clip162)\" style=\"stroke:#000000; stroke-linecap:round; stroke-linejoin:round; stroke-width:2; stroke-opacity:0.1; fill:none\" points=\"647.881,1423.18 647.881,47.2441 \"/>\n<polyline clip-path=\"url(#clip162)\" style=\"stroke:#000000; stroke-linecap:round; stroke-linejoin:round; stroke-width:2; stroke-opacity:0.1; fill:none\" points=\"1058.69,1423.18 1058.69,47.2441 \"/>\n<polyline clip-path=\"url(#clip162)\" style=\"stroke:#000000; stroke-linecap:round; stroke-linejoin:round; stroke-width:2; stroke-opacity:0.1; fill:none\" points=\"1469.51,1423.18 1469.51,47.2441 \"/>\n<polyline clip-path=\"url(#clip162)\" style=\"stroke:#000000; stroke-linecap:round; stroke-linejoin:round; stroke-width:2; stroke-opacity:0.1; fill:none\" points=\"1880.32,1423.18 1880.32,47.2441 \"/>\n<polyline clip-path=\"url(#clip162)\" style=\"stroke:#000000; stroke-linecap:round; stroke-linejoin:round; stroke-width:2; stroke-opacity:0.1; fill:none\" points=\"2291.13,1423.18 2291.13,47.2441 \"/>\n<polyline clip-path=\"url(#clip160)\" style=\"stroke:#000000; stroke-linecap:round; stroke-linejoin:round; stroke-width:4; stroke-opacity:1; fill:none\" points=\"175.445,1423.18 2352.76,1423.18 \"/>\n<polyline clip-path=\"url(#clip160)\" style=\"stroke:#000000; stroke-linecap:round; stroke-linejoin:round; stroke-width:4; stroke-opacity:1; fill:none\" points=\"237.067,1423.18 237.067,1404.28 \"/>\n<polyline clip-path=\"url(#clip160)\" style=\"stroke:#000000; stroke-linecap:round; stroke-linejoin:round; stroke-width:4; stroke-opacity:1; fill:none\" points=\"647.881,1423.18 647.881,1404.28 \"/>\n<polyline clip-path=\"url(#clip160)\" style=\"stroke:#000000; stroke-linecap:round; stroke-linejoin:round; stroke-width:4; stroke-opacity:1; fill:none\" points=\"1058.69,1423.18 1058.69,1404.28 \"/>\n<polyline clip-path=\"url(#clip160)\" style=\"stroke:#000000; stroke-linecap:round; stroke-linejoin:round; stroke-width:4; stroke-opacity:1; fill:none\" points=\"1469.51,1423.18 1469.51,1404.28 \"/>\n<polyline clip-path=\"url(#clip160)\" style=\"stroke:#000000; stroke-linecap:round; stroke-linejoin:round; stroke-width:4; stroke-opacity:1; fill:none\" points=\"1880.32,1423.18 1880.32,1404.28 \"/>\n<polyline clip-path=\"url(#clip160)\" style=\"stroke:#000000; stroke-linecap:round; stroke-linejoin:round; stroke-width:4; stroke-opacity:1; fill:none\" points=\"2291.13,1423.18 2291.13,1404.28 \"/>\n<path clip-path=\"url(#clip160)\" d=\"M181.593 1481.64 L189.232 1481.64 L189.232 1455.28 L180.922 1456.95 L180.922 1452.69 L189.186 1451.02 L193.861 1451.02 L193.861 1481.64 L201.5 1481.64 L201.5 1485.58 L181.593 1485.58 L181.593 1481.64 Z\" fill=\"#000000\" fill-rule=\"evenodd\" fill-opacity=\"1\" /><path clip-path=\"url(#clip160)\" d=\"M220.945 1469.17 Q217.611 1469.17 215.69 1470.95 Q213.792 1472.73 213.792 1475.86 Q213.792 1478.98 215.69 1480.77 Q217.611 1482.55 220.945 1482.55 Q224.278 1482.55 226.199 1480.77 Q228.12 1478.96 228.12 1475.86 Q228.12 1472.73 226.199 1470.95 Q224.301 1469.17 220.945 1469.17 M216.269 1467.18 Q213.259 1466.44 211.57 1464.38 Q209.903 1462.32 209.903 1459.35 Q209.903 1455.21 212.843 1452.8 Q215.806 1450.39 220.945 1450.39 Q226.107 1450.39 229.046 1452.8 Q231.986 1455.21 231.986 1459.35 Q231.986 1462.32 230.296 1464.38 Q228.63 1466.44 225.644 1467.18 Q229.023 1467.96 230.898 1470.26 Q232.796 1472.55 232.796 1475.86 Q232.796 1480.88 229.718 1483.57 Q226.662 1486.25 220.945 1486.25 Q215.227 1486.25 212.148 1483.57 Q209.093 1480.88 209.093 1475.86 Q209.093 1472.55 210.991 1470.26 Q212.889 1467.96 216.269 1467.18 M214.556 1459.79 Q214.556 1462.48 216.222 1463.98 Q217.912 1465.49 220.945 1465.49 Q223.954 1465.49 225.644 1463.98 Q227.357 1462.48 227.357 1459.79 Q227.357 1457.11 225.644 1455.6 Q223.954 1454.1 220.945 1454.1 Q217.912 1454.1 216.222 1455.6 Q214.556 1457.11 214.556 1459.79 Z\" fill=\"#000000\" fill-rule=\"evenodd\" fill-opacity=\"1\" /><path clip-path=\"url(#clip160)\" d=\"M241.153 1451.02 L259.509 1451.02 L259.509 1454.96 L245.435 1454.96 L245.435 1463.43 Q246.454 1463.08 247.472 1462.92 Q248.491 1462.73 249.509 1462.73 Q255.296 1462.73 258.676 1465.9 Q262.056 1469.08 262.056 1474.49 Q262.056 1480.07 258.583 1483.17 Q255.111 1486.25 248.792 1486.25 Q246.616 1486.25 244.347 1485.88 Q242.102 1485.51 239.695 1484.77 L239.695 1480.07 Q241.778 1481.2 244 1481.76 Q246.222 1482.32 248.699 1482.32 Q252.704 1482.32 255.042 1480.21 Q257.38 1478.1 257.38 1474.49 Q257.38 1470.88 255.042 1468.77 Q252.704 1466.67 248.699 1466.67 Q246.824 1466.67 244.949 1467.08 Q243.097 1467.5 241.153 1468.38 L241.153 1451.02 Z\" fill=\"#000000\" fill-rule=\"evenodd\" fill-opacity=\"1\" /><path clip-path=\"url(#clip160)\" d=\"M281.268 1454.1 Q277.657 1454.1 275.829 1457.66 Q274.023 1461.2 274.023 1468.33 Q274.023 1475.44 275.829 1479.01 Q277.657 1482.55 281.268 1482.55 Q284.903 1482.55 286.708 1479.01 Q288.537 1475.44 288.537 1468.33 Q288.537 1461.2 286.708 1457.66 Q284.903 1454.1 281.268 1454.1 M281.268 1450.39 Q287.079 1450.39 290.134 1455 Q293.213 1459.58 293.213 1468.33 Q293.213 1477.06 290.134 1481.67 Q287.079 1486.25 281.268 1486.25 Q275.458 1486.25 272.38 1481.67 Q269.324 1477.06 269.324 1468.33 Q269.324 1459.58 272.38 1455 Q275.458 1450.39 281.268 1450.39 Z\" fill=\"#000000\" fill-rule=\"evenodd\" fill-opacity=\"1\" /><path clip-path=\"url(#clip160)\" d=\"M592.406 1481.64 L600.045 1481.64 L600.045 1455.28 L591.735 1456.95 L591.735 1452.69 L599.999 1451.02 L604.675 1451.02 L604.675 1481.64 L612.314 1481.64 L612.314 1485.58 L592.406 1485.58 L592.406 1481.64 Z\" fill=\"#000000\" fill-rule=\"evenodd\" fill-opacity=\"1\" /><path clip-path=\"url(#clip160)\" d=\"M621.897 1484.86 L621.897 1480.6 Q623.656 1481.44 625.462 1481.88 Q627.267 1482.32 629.003 1482.32 Q633.633 1482.32 636.063 1479.21 Q638.517 1476.09 638.864 1469.75 Q637.522 1471.74 635.462 1472.8 Q633.401 1473.87 630.901 1473.87 Q625.716 1473.87 622.684 1470.74 Q619.675 1467.59 619.675 1462.15 Q619.675 1456.83 622.823 1453.61 Q625.971 1450.39 631.202 1450.39 Q637.198 1450.39 640.346 1455 Q643.517 1459.58 643.517 1468.33 Q643.517 1476.51 639.628 1481.39 Q635.763 1486.25 629.212 1486.25 Q627.452 1486.25 625.647 1485.9 Q623.841 1485.56 621.897 1484.86 M631.202 1470.21 Q634.351 1470.21 636.179 1468.06 Q638.031 1465.9 638.031 1462.15 Q638.031 1458.43 636.179 1456.27 Q634.351 1454.1 631.202 1454.1 Q628.054 1454.1 626.202 1456.27 Q624.374 1458.43 624.374 1462.15 Q624.374 1465.9 626.202 1468.06 Q628.054 1470.21 631.202 1470.21 Z\" fill=\"#000000\" fill-rule=\"evenodd\" fill-opacity=\"1\" /><path clip-path=\"url(#clip160)\" d=\"M661.92 1454.1 Q658.309 1454.1 656.48 1457.66 Q654.674 1461.2 654.674 1468.33 Q654.674 1475.44 656.48 1479.01 Q658.309 1482.55 661.92 1482.55 Q665.554 1482.55 667.36 1479.01 Q669.188 1475.44 669.188 1468.33 Q669.188 1461.2 667.36 1457.66 Q665.554 1454.1 661.92 1454.1 M661.92 1450.39 Q667.73 1450.39 670.786 1455 Q673.864 1459.58 673.864 1468.33 Q673.864 1477.06 670.786 1481.67 Q667.73 1486.25 661.92 1486.25 Q656.11 1486.25 653.031 1481.67 Q649.975 1477.06 649.975 1468.33 Q649.975 1459.58 653.031 1455 Q656.11 1450.39 661.92 1450.39 Z\" fill=\"#000000\" fill-rule=\"evenodd\" fill-opacity=\"1\" /><path clip-path=\"url(#clip160)\" d=\"M692.082 1454.1 Q688.471 1454.1 686.642 1457.66 Q684.836 1461.2 684.836 1468.33 Q684.836 1475.44 686.642 1479.01 Q688.471 1482.55 692.082 1482.55 Q695.716 1482.55 697.521 1479.01 Q699.35 1475.44 699.35 1468.33 Q699.35 1461.2 697.521 1457.66 Q695.716 1454.1 692.082 1454.1 M692.082 1450.39 Q697.892 1450.39 700.947 1455 Q704.026 1459.58 704.026 1468.33 Q704.026 1477.06 700.947 1481.67 Q697.892 1486.25 692.082 1486.25 Q686.272 1486.25 683.193 1481.67 Q680.137 1477.06 680.137 1468.33 Q680.137 1459.58 683.193 1455 Q686.272 1450.39 692.082 1450.39 Z\" fill=\"#000000\" fill-rule=\"evenodd\" fill-opacity=\"1\" /><path clip-path=\"url(#clip160)\" d=\"M1003.22 1481.64 L1010.86 1481.64 L1010.86 1455.28 L1002.55 1456.95 L1002.55 1452.69 L1010.81 1451.02 L1015.49 1451.02 L1015.49 1481.64 L1023.13 1481.64 L1023.13 1485.58 L1003.22 1485.58 L1003.22 1481.64 Z\" fill=\"#000000\" fill-rule=\"evenodd\" fill-opacity=\"1\" /><path clip-path=\"url(#clip160)\" d=\"M1032.71 1484.86 L1032.71 1480.6 Q1034.47 1481.44 1036.28 1481.88 Q1038.08 1482.32 1039.82 1482.32 Q1044.45 1482.32 1046.88 1479.21 Q1049.33 1476.09 1049.68 1469.75 Q1048.34 1471.74 1046.27 1472.8 Q1044.21 1473.87 1041.71 1473.87 Q1036.53 1473.87 1033.5 1470.74 Q1030.49 1467.59 1030.49 1462.15 Q1030.49 1456.83 1033.64 1453.61 Q1036.78 1450.39 1042.02 1450.39 Q1048.01 1450.39 1051.16 1455 Q1054.33 1459.58 1054.33 1468.33 Q1054.33 1476.51 1050.44 1481.39 Q1046.58 1486.25 1040.03 1486.25 Q1038.27 1486.25 1036.46 1485.9 Q1034.65 1485.56 1032.71 1484.86 M1042.02 1470.21 Q1045.16 1470.21 1046.99 1468.06 Q1048.84 1465.9 1048.84 1462.15 Q1048.84 1458.43 1046.99 1456.27 Q1045.16 1454.1 1042.02 1454.1 Q1038.87 1454.1 1037.02 1456.27 Q1035.19 1458.43 1035.19 1462.15 Q1035.19 1465.9 1037.02 1468.06 Q1038.87 1470.21 1042.02 1470.21 Z\" fill=\"#000000\" fill-rule=\"evenodd\" fill-opacity=\"1\" /><path clip-path=\"url(#clip160)\" d=\"M1062.78 1451.02 L1081.14 1451.02 L1081.14 1454.96 L1067.06 1454.96 L1067.06 1463.43 Q1068.08 1463.08 1069.1 1462.92 Q1070.12 1462.73 1071.14 1462.73 Q1076.92 1462.73 1080.3 1465.9 Q1083.68 1469.08 1083.68 1474.49 Q1083.68 1480.07 1080.21 1483.17 Q1076.74 1486.25 1070.42 1486.25 Q1068.24 1486.25 1065.97 1485.88 Q1063.73 1485.51 1061.32 1484.77 L1061.32 1480.07 Q1063.4 1481.2 1065.63 1481.76 Q1067.85 1482.32 1070.33 1482.32 Q1074.33 1482.32 1076.67 1480.21 Q1079.01 1478.1 1079.01 1474.49 Q1079.01 1470.88 1076.67 1468.77 Q1074.33 1466.67 1070.33 1466.67 Q1068.45 1466.67 1066.58 1467.08 Q1064.72 1467.5 1062.78 1468.38 L1062.78 1451.02 Z\" fill=\"#000000\" fill-rule=\"evenodd\" fill-opacity=\"1\" /><path clip-path=\"url(#clip160)\" d=\"M1102.9 1454.1 Q1099.28 1454.1 1097.46 1457.66 Q1095.65 1461.2 1095.65 1468.33 Q1095.65 1475.44 1097.46 1479.01 Q1099.28 1482.55 1102.9 1482.55 Q1106.53 1482.55 1108.33 1479.01 Q1110.16 1475.44 1110.16 1468.33 Q1110.16 1461.2 1108.33 1457.66 Q1106.53 1454.1 1102.9 1454.1 M1102.9 1450.39 Q1108.71 1450.39 1111.76 1455 Q1114.84 1459.58 1114.84 1468.33 Q1114.84 1477.06 1111.76 1481.67 Q1108.71 1486.25 1102.9 1486.25 Q1097.08 1486.25 1094.01 1481.67 Q1090.95 1477.06 1090.95 1468.33 Q1090.95 1459.58 1094.01 1455 Q1097.08 1450.39 1102.9 1450.39 Z\" fill=\"#000000\" fill-rule=\"evenodd\" fill-opacity=\"1\" /><path clip-path=\"url(#clip160)\" d=\"M1418.12 1481.64 L1434.44 1481.64 L1434.44 1485.58 L1412.49 1485.58 L1412.49 1481.64 Q1415.16 1478.89 1419.74 1474.26 Q1424.35 1469.61 1425.53 1468.27 Q1427.77 1465.74 1428.65 1464.01 Q1429.55 1462.25 1429.55 1460.56 Q1429.55 1457.8 1427.61 1456.07 Q1425.69 1454.33 1422.59 1454.33 Q1420.39 1454.33 1417.93 1455.09 Q1415.5 1455.86 1412.73 1457.41 L1412.73 1452.69 Q1415.55 1451.55 1418 1450.97 Q1420.46 1450.39 1422.49 1450.39 Q1427.86 1450.39 1431.06 1453.08 Q1434.25 1455.77 1434.25 1460.26 Q1434.25 1462.39 1433.44 1464.31 Q1432.66 1466.2 1430.55 1468.8 Q1429.97 1469.47 1426.87 1472.69 Q1423.77 1475.88 1418.12 1481.64 Z\" fill=\"#000000\" fill-rule=\"evenodd\" fill-opacity=\"1\" /><path clip-path=\"url(#clip160)\" d=\"M1454.25 1454.1 Q1450.64 1454.1 1448.81 1457.66 Q1447.01 1461.2 1447.01 1468.33 Q1447.01 1475.44 1448.81 1479.01 Q1450.64 1482.55 1454.25 1482.55 Q1457.89 1482.55 1459.69 1479.01 Q1461.52 1475.44 1461.52 1468.33 Q1461.52 1461.2 1459.69 1457.66 Q1457.89 1454.1 1454.25 1454.1 M1454.25 1450.39 Q1460.06 1450.39 1463.12 1455 Q1466.2 1459.58 1466.2 1468.33 Q1466.2 1477.06 1463.12 1481.67 Q1460.06 1486.25 1454.25 1486.25 Q1448.44 1486.25 1445.36 1481.67 Q1442.31 1477.06 1442.31 1468.33 Q1442.31 1459.58 1445.36 1455 Q1448.44 1450.39 1454.25 1450.39 Z\" fill=\"#000000\" fill-rule=\"evenodd\" fill-opacity=\"1\" /><path clip-path=\"url(#clip160)\" d=\"M1484.41 1454.1 Q1480.8 1454.1 1478.97 1457.66 Q1477.17 1461.2 1477.17 1468.33 Q1477.17 1475.44 1478.97 1479.01 Q1480.8 1482.55 1484.41 1482.55 Q1488.05 1482.55 1489.85 1479.01 Q1491.68 1475.44 1491.68 1468.33 Q1491.68 1461.2 1489.85 1457.66 Q1488.05 1454.1 1484.41 1454.1 M1484.41 1450.39 Q1490.22 1450.39 1493.28 1455 Q1496.36 1459.58 1496.36 1468.33 Q1496.36 1477.06 1493.28 1481.67 Q1490.22 1486.25 1484.41 1486.25 Q1478.6 1486.25 1475.53 1481.67 Q1472.47 1477.06 1472.47 1468.33 Q1472.47 1459.58 1475.53 1455 Q1478.6 1450.39 1484.41 1450.39 Z\" fill=\"#000000\" fill-rule=\"evenodd\" fill-opacity=\"1\" /><path clip-path=\"url(#clip160)\" d=\"M1514.58 1454.1 Q1510.97 1454.1 1509.14 1457.66 Q1507.33 1461.2 1507.33 1468.33 Q1507.33 1475.44 1509.14 1479.01 Q1510.97 1482.55 1514.58 1482.55 Q1518.21 1482.55 1520.02 1479.01 Q1521.84 1475.44 1521.84 1468.33 Q1521.84 1461.2 1520.02 1457.66 Q1518.21 1454.1 1514.58 1454.1 M1514.58 1450.39 Q1520.39 1450.39 1523.44 1455 Q1526.52 1459.58 1526.52 1468.33 Q1526.52 1477.06 1523.44 1481.67 Q1520.39 1486.25 1514.58 1486.25 Q1508.77 1486.25 1505.69 1481.67 Q1502.63 1477.06 1502.63 1468.33 Q1502.63 1459.58 1505.69 1455 Q1508.77 1450.39 1514.58 1450.39 Z\" fill=\"#000000\" fill-rule=\"evenodd\" fill-opacity=\"1\" /><path clip-path=\"url(#clip160)\" d=\"M1828.93 1481.64 L1845.25 1481.64 L1845.25 1485.58 L1823.31 1485.58 L1823.31 1481.64 Q1825.97 1478.89 1830.55 1474.26 Q1835.16 1469.61 1836.34 1468.27 Q1838.58 1465.74 1839.46 1464.01 Q1840.37 1462.25 1840.37 1460.56 Q1840.37 1457.8 1838.42 1456.07 Q1836.5 1454.33 1833.4 1454.33 Q1831.2 1454.33 1828.75 1455.09 Q1826.32 1455.86 1823.54 1457.41 L1823.54 1452.69 Q1826.36 1451.55 1828.82 1450.97 Q1831.27 1450.39 1833.31 1450.39 Q1838.68 1450.39 1841.87 1453.08 Q1845.07 1455.77 1845.07 1460.26 Q1845.07 1462.39 1844.26 1464.31 Q1843.47 1466.2 1841.36 1468.8 Q1840.78 1469.47 1837.68 1472.69 Q1834.58 1475.88 1828.93 1481.64 Z\" fill=\"#000000\" fill-rule=\"evenodd\" fill-opacity=\"1\" /><path clip-path=\"url(#clip160)\" d=\"M1865.07 1454.1 Q1861.45 1454.1 1859.63 1457.66 Q1857.82 1461.2 1857.82 1468.33 Q1857.82 1475.44 1859.63 1479.01 Q1861.45 1482.55 1865.07 1482.55 Q1868.7 1482.55 1870.51 1479.01 Q1872.33 1475.44 1872.33 1468.33 Q1872.33 1461.2 1870.51 1457.66 Q1868.7 1454.1 1865.07 1454.1 M1865.07 1450.39 Q1870.88 1450.39 1873.93 1455 Q1877.01 1459.58 1877.01 1468.33 Q1877.01 1477.06 1873.93 1481.67 Q1870.88 1486.25 1865.07 1486.25 Q1859.26 1486.25 1856.18 1481.67 Q1853.12 1477.06 1853.12 1468.33 Q1853.12 1459.58 1856.18 1455 Q1859.26 1450.39 1865.07 1450.39 Z\" fill=\"#000000\" fill-rule=\"evenodd\" fill-opacity=\"1\" /><path clip-path=\"url(#clip160)\" d=\"M1885.27 1451.02 L1903.63 1451.02 L1903.63 1454.96 L1889.56 1454.96 L1889.56 1463.43 Q1890.58 1463.08 1891.59 1462.92 Q1892.61 1462.73 1893.63 1462.73 Q1899.42 1462.73 1902.8 1465.9 Q1906.18 1469.08 1906.18 1474.49 Q1906.18 1480.07 1902.7 1483.17 Q1899.23 1486.25 1892.91 1486.25 Q1890.74 1486.25 1888.47 1485.88 Q1886.22 1485.51 1883.82 1484.77 L1883.82 1480.07 Q1885.9 1481.2 1888.12 1481.76 Q1890.34 1482.32 1892.82 1482.32 Q1896.83 1482.32 1899.16 1480.21 Q1901.5 1478.1 1901.5 1474.49 Q1901.5 1470.88 1899.16 1468.77 Q1896.83 1466.67 1892.82 1466.67 Q1890.95 1466.67 1889.07 1467.08 Q1887.22 1467.5 1885.27 1468.38 L1885.27 1451.02 Z\" fill=\"#000000\" fill-rule=\"evenodd\" fill-opacity=\"1\" /><path clip-path=\"url(#clip160)\" d=\"M1925.39 1454.1 Q1921.78 1454.1 1919.95 1457.66 Q1918.14 1461.2 1918.14 1468.33 Q1918.14 1475.44 1919.95 1479.01 Q1921.78 1482.55 1925.39 1482.55 Q1929.02 1482.55 1930.83 1479.01 Q1932.66 1475.44 1932.66 1468.33 Q1932.66 1461.2 1930.83 1457.66 Q1929.02 1454.1 1925.39 1454.1 M1925.39 1450.39 Q1931.2 1450.39 1934.26 1455 Q1937.33 1459.58 1937.33 1468.33 Q1937.33 1477.06 1934.26 1481.67 Q1931.2 1486.25 1925.39 1486.25 Q1919.58 1486.25 1916.5 1481.67 Q1913.45 1477.06 1913.45 1468.33 Q1913.45 1459.58 1916.5 1455 Q1919.58 1450.39 1925.39 1450.39 Z\" fill=\"#000000\" fill-rule=\"evenodd\" fill-opacity=\"1\" /><path clip-path=\"url(#clip160)\" d=\"M2239.75 1481.64 L2256.06 1481.64 L2256.06 1485.58 L2234.12 1485.58 L2234.12 1481.64 Q2236.78 1478.89 2241.37 1474.26 Q2245.97 1469.61 2247.15 1468.27 Q2249.4 1465.74 2250.28 1464.01 Q2251.18 1462.25 2251.18 1460.56 Q2251.18 1457.8 2249.24 1456.07 Q2247.31 1454.33 2244.21 1454.33 Q2242.01 1454.33 2239.56 1455.09 Q2237.13 1455.86 2234.35 1457.41 L2234.35 1452.69 Q2237.18 1451.55 2239.63 1450.97 Q2242.08 1450.39 2244.12 1450.39 Q2249.49 1450.39 2252.69 1453.08 Q2255.88 1455.77 2255.88 1460.26 Q2255.88 1462.39 2255.07 1464.31 Q2254.28 1466.2 2252.18 1468.8 Q2251.6 1469.47 2248.5 1472.69 Q2245.39 1475.88 2239.75 1481.64 Z\" fill=\"#000000\" fill-rule=\"evenodd\" fill-opacity=\"1\" /><path clip-path=\"url(#clip160)\" d=\"M2266.69 1481.64 L2274.33 1481.64 L2274.33 1455.28 L2266.02 1456.95 L2266.02 1452.69 L2274.28 1451.02 L2278.96 1451.02 L2278.96 1481.64 L2286.6 1481.64 L2286.6 1485.58 L2266.69 1485.58 L2266.69 1481.64 Z\" fill=\"#000000\" fill-rule=\"evenodd\" fill-opacity=\"1\" /><path clip-path=\"url(#clip160)\" d=\"M2306.04 1454.1 Q2302.43 1454.1 2300.6 1457.66 Q2298.8 1461.2 2298.8 1468.33 Q2298.8 1475.44 2300.6 1479.01 Q2302.43 1482.55 2306.04 1482.55 Q2309.68 1482.55 2311.48 1479.01 Q2313.31 1475.44 2313.31 1468.33 Q2313.31 1461.2 2311.48 1457.66 Q2309.68 1454.1 2306.04 1454.1 M2306.04 1450.39 Q2311.85 1450.39 2314.91 1455 Q2317.99 1459.58 2317.99 1468.33 Q2317.99 1477.06 2314.91 1481.67 Q2311.85 1486.25 2306.04 1486.25 Q2300.23 1486.25 2297.15 1481.67 Q2294.1 1477.06 2294.1 1468.33 Q2294.1 1459.58 2297.15 1455 Q2300.23 1450.39 2306.04 1450.39 Z\" fill=\"#000000\" fill-rule=\"evenodd\" fill-opacity=\"1\" /><path clip-path=\"url(#clip160)\" d=\"M2336.2 1454.1 Q2332.59 1454.1 2330.76 1457.66 Q2328.96 1461.2 2328.96 1468.33 Q2328.96 1475.44 2330.76 1479.01 Q2332.59 1482.55 2336.2 1482.55 Q2339.84 1482.55 2341.64 1479.01 Q2343.47 1475.44 2343.47 1468.33 Q2343.47 1461.2 2341.64 1457.66 Q2339.84 1454.1 2336.2 1454.1 M2336.2 1450.39 Q2342.01 1450.39 2345.07 1455 Q2348.15 1459.58 2348.15 1468.33 Q2348.15 1477.06 2345.07 1481.67 Q2342.01 1486.25 2336.2 1486.25 Q2330.39 1486.25 2327.31 1481.67 Q2324.26 1477.06 2324.26 1468.33 Q2324.26 1459.58 2327.31 1455 Q2330.39 1450.39 2336.2 1450.39 Z\" fill=\"#000000\" fill-rule=\"evenodd\" fill-opacity=\"1\" /><path clip-path=\"url(#clip160)\" d=\"M1195.03 1520.52 L1201.94 1520.52 L1215.12 1540.07 L1228.2 1520.52 L1235.1 1520.52 L1218.3 1545.41 L1218.3 1568.04 L1211.84 1568.04 L1211.84 1545.41 L1195.03 1520.52 Z\" fill=\"#000000\" fill-rule=\"evenodd\" fill-opacity=\"1\" /><path clip-path=\"url(#clip160)\" d=\"M1262.95 1548.76 L1262.95 1551.62 L1236.03 1551.62 Q1236.41 1557.67 1239.66 1560.85 Q1242.93 1564 1248.76 1564 Q1252.13 1564 1255.28 1563.17 Q1258.47 1562.35 1261.59 1560.69 L1261.59 1566.23 Q1258.44 1567.57 1255.12 1568.27 Q1251.81 1568.97 1248.41 1568.97 Q1239.88 1568.97 1234.88 1564 Q1229.92 1559.04 1229.92 1550.57 Q1229.92 1541.82 1234.63 1536.69 Q1239.37 1531.54 1247.39 1531.54 Q1254.58 1531.54 1258.75 1536.18 Q1262.95 1540.8 1262.95 1548.76 M1257.1 1547.04 Q1257.03 1542.23 1254.39 1539.37 Q1251.78 1536.5 1247.45 1536.5 Q1242.55 1536.5 1239.59 1539.27 Q1236.66 1542.04 1236.22 1547.07 L1257.1 1547.04 Z\" fill=\"#000000\" fill-rule=\"evenodd\" fill-opacity=\"1\" /><path clip-path=\"url(#clip160)\" d=\"M1288.77 1550.12 Q1281.67 1550.12 1278.93 1551.75 Q1276.2 1553.37 1276.2 1557.29 Q1276.2 1560.4 1278.23 1562.25 Q1280.3 1564.07 1283.83 1564.07 Q1288.7 1564.07 1291.63 1560.63 Q1294.59 1557.16 1294.59 1551.43 L1294.59 1550.12 L1288.77 1550.12 M1300.45 1547.71 L1300.45 1568.04 L1294.59 1568.04 L1294.59 1562.63 Q1292.59 1565.88 1289.6 1567.44 Q1286.6 1568.97 1282.27 1568.97 Q1276.8 1568.97 1273.55 1565.91 Q1270.34 1562.82 1270.34 1557.67 Q1270.34 1551.65 1274.35 1548.6 Q1278.39 1545.54 1286.38 1545.54 L1294.59 1545.54 L1294.59 1544.97 Q1294.59 1540.93 1291.92 1538.73 Q1289.28 1536.5 1284.47 1536.5 Q1281.42 1536.5 1278.52 1537.23 Q1275.62 1537.97 1272.95 1539.43 L1272.95 1534.02 Q1276.16 1532.78 1279.19 1532.17 Q1282.21 1531.54 1285.08 1531.54 Q1292.81 1531.54 1296.63 1535.55 Q1300.45 1539.56 1300.45 1547.71 Z\" fill=\"#000000\" fill-rule=\"evenodd\" fill-opacity=\"1\" /><path clip-path=\"url(#clip160)\" d=\"M1333.17 1537.87 Q1332.18 1537.3 1331 1537.04 Q1329.86 1536.76 1328.46 1536.76 Q1323.49 1536.76 1320.82 1540 Q1318.18 1543.22 1318.18 1549.27 L1318.18 1568.04 L1312.29 1568.04 L1312.29 1532.4 L1318.18 1532.4 L1318.18 1537.93 Q1320.02 1534.69 1322.98 1533.13 Q1325.94 1531.54 1330.18 1531.54 Q1330.78 1531.54 1331.51 1531.63 Q1332.25 1531.7 1333.14 1531.85 L1333.17 1537.87 Z\" fill=\"#000000\" fill-rule=\"evenodd\" fill-opacity=\"1\" /><polyline clip-path=\"url(#clip162)\" style=\"stroke:#000000; stroke-linecap:round; stroke-linejoin:round; stroke-width:2; stroke-opacity:0.1; fill:none\" points=\"175.445,1312.9 2352.76,1312.9 \"/>\n<polyline clip-path=\"url(#clip162)\" style=\"stroke:#000000; stroke-linecap:round; stroke-linejoin:round; stroke-width:2; stroke-opacity:0.1; fill:none\" points=\"175.445,1023.36 2352.76,1023.36 \"/>\n<polyline clip-path=\"url(#clip162)\" style=\"stroke:#000000; stroke-linecap:round; stroke-linejoin:round; stroke-width:2; stroke-opacity:0.1; fill:none\" points=\"175.445,733.811 2352.76,733.811 \"/>\n<polyline clip-path=\"url(#clip162)\" style=\"stroke:#000000; stroke-linecap:round; stroke-linejoin:round; stroke-width:2; stroke-opacity:0.1; fill:none\" points=\"175.445,444.265 2352.76,444.265 \"/>\n<polyline clip-path=\"url(#clip162)\" style=\"stroke:#000000; stroke-linecap:round; stroke-linejoin:round; stroke-width:2; stroke-opacity:0.1; fill:none\" points=\"175.445,154.719 2352.76,154.719 \"/>\n<polyline clip-path=\"url(#clip160)\" style=\"stroke:#000000; stroke-linecap:round; stroke-linejoin:round; stroke-width:4; stroke-opacity:1; fill:none\" points=\"175.445,1423.18 175.445,47.2441 \"/>\n<polyline clip-path=\"url(#clip160)\" style=\"stroke:#000000; stroke-linecap:round; stroke-linejoin:round; stroke-width:4; stroke-opacity:1; fill:none\" points=\"175.445,1312.9 194.343,1312.9 \"/>\n<polyline clip-path=\"url(#clip160)\" style=\"stroke:#000000; stroke-linecap:round; stroke-linejoin:round; stroke-width:4; stroke-opacity:1; fill:none\" points=\"175.445,1023.36 194.343,1023.36 \"/>\n<polyline clip-path=\"url(#clip160)\" style=\"stroke:#000000; stroke-linecap:round; stroke-linejoin:round; stroke-width:4; stroke-opacity:1; fill:none\" points=\"175.445,733.811 194.343,733.811 \"/>\n<polyline clip-path=\"url(#clip160)\" style=\"stroke:#000000; stroke-linecap:round; stroke-linejoin:round; stroke-width:4; stroke-opacity:1; fill:none\" points=\"175.445,444.265 194.343,444.265 \"/>\n<polyline clip-path=\"url(#clip160)\" style=\"stroke:#000000; stroke-linecap:round; stroke-linejoin:round; stroke-width:4; stroke-opacity:1; fill:none\" points=\"175.445,154.719 194.343,154.719 \"/>\n<path clip-path=\"url(#clip160)\" d=\"M127.501 1298.7 Q123.89 1298.7 122.061 1302.27 Q120.255 1305.81 120.255 1312.94 Q120.255 1320.04 122.061 1323.61 Q123.89 1327.15 127.501 1327.15 Q131.135 1327.15 132.941 1323.61 Q134.769 1320.04 134.769 1312.94 Q134.769 1305.81 132.941 1302.27 Q131.135 1298.7 127.501 1298.7 M127.501 1295 Q133.311 1295 136.367 1299.6 Q139.445 1304.19 139.445 1312.94 Q139.445 1321.66 136.367 1326.27 Q133.311 1330.85 127.501 1330.85 Q121.691 1330.85 118.612 1326.27 Q115.556 1321.66 115.556 1312.94 Q115.556 1304.19 118.612 1299.6 Q121.691 1295 127.501 1295 Z\" fill=\"#000000\" fill-rule=\"evenodd\" fill-opacity=\"1\" /><path clip-path=\"url(#clip160)\" d=\"M119.538 1036.7 L127.177 1036.7 L127.177 1010.34 L118.867 1012 L118.867 1007.74 L127.13 1006.08 L131.806 1006.08 L131.806 1036.7 L139.445 1036.7 L139.445 1040.64 L119.538 1040.64 L119.538 1036.7 Z\" fill=\"#000000\" fill-rule=\"evenodd\" fill-opacity=\"1\" /><path clip-path=\"url(#clip160)\" d=\"M123.126 747.156 L139.445 747.156 L139.445 751.091 L117.501 751.091 L117.501 747.156 Q120.163 744.402 124.746 739.772 Q129.353 735.119 130.533 733.777 Q132.779 731.254 133.658 729.517 Q134.561 727.758 134.561 726.068 Q134.561 723.314 132.617 721.578 Q130.695 719.842 127.593 719.842 Q125.394 719.842 122.941 720.605 Q120.51 721.369 117.732 722.92 L117.732 718.198 Q120.556 717.064 123.01 716.485 Q125.464 715.906 127.501 715.906 Q132.871 715.906 136.066 718.592 Q139.26 721.277 139.26 725.767 Q139.26 727.897 138.45 729.818 Q137.663 731.716 135.556 734.309 Q134.978 734.98 131.876 738.198 Q128.774 741.392 123.126 747.156 Z\" fill=\"#000000\" fill-rule=\"evenodd\" fill-opacity=\"1\" /><path clip-path=\"url(#clip160)\" d=\"M132.316 442.911 Q135.672 443.629 137.547 445.897 Q139.445 448.166 139.445 451.499 Q139.445 456.615 135.927 459.416 Q132.408 462.217 125.927 462.217 Q123.751 462.217 121.436 461.777 Q119.144 461.36 116.691 460.504 L116.691 455.99 Q118.635 457.124 120.95 457.703 Q123.265 458.282 125.788 458.282 Q130.186 458.282 132.478 456.545 Q134.792 454.809 134.792 451.499 Q134.792 448.444 132.64 446.731 Q130.51 444.995 126.691 444.995 L122.663 444.995 L122.663 441.152 L126.876 441.152 Q130.325 441.152 132.154 439.786 Q133.982 438.397 133.982 435.805 Q133.982 433.143 132.084 431.731 Q130.209 430.296 126.691 430.296 Q124.769 430.296 122.57 430.712 Q120.371 431.129 117.732 432.008 L117.732 427.842 Q120.394 427.101 122.709 426.731 Q125.047 426.36 127.107 426.36 Q132.431 426.36 135.533 428.791 Q138.635 431.198 138.635 435.319 Q138.635 438.189 136.992 440.18 Q135.348 442.147 132.316 442.911 Z\" fill=\"#000000\" fill-rule=\"evenodd\" fill-opacity=\"1\" /><path clip-path=\"url(#clip160)\" d=\"M129.862 141.513 L118.056 159.962 L129.862 159.962 L129.862 141.513 M128.635 137.439 L134.515 137.439 L134.515 159.962 L139.445 159.962 L139.445 163.851 L134.515 163.851 L134.515 171.999 L129.862 171.999 L129.862 163.851 L114.26 163.851 L114.26 159.337 L128.635 137.439 Z\" fill=\"#000000\" fill-rule=\"evenodd\" fill-opacity=\"1\" /><path clip-path=\"url(#clip160)\" d=\"M57.2247 1343.55 L44.4614 1343.55 L44.4614 1354.05 L39.1779 1354.05 L39.1779 1337.19 L59.58 1337.19 Q62.2218 1340.91 63.5904 1345.4 Q64.9272 1349.88 64.9272 1354.98 Q64.9272 1366.12 58.4342 1372.42 Q51.9093 1378.69 40.2919 1378.69 Q28.6427 1378.69 22.1496 1372.42 Q15.6248 1366.12 15.6248 1354.98 Q15.6248 1350.33 16.7706 1346.16 Q17.9164 1341.96 20.1444 1338.43 L26.9876 1338.43 Q23.9639 1341.99 22.4361 1346 Q20.9083 1350.01 20.9083 1354.44 Q20.9083 1363.16 25.7781 1367.55 Q30.6479 1371.91 40.2919 1371.91 Q49.9041 1371.91 54.7739 1367.55 Q59.6436 1363.16 59.6436 1354.44 Q59.6436 1351.03 59.0707 1348.36 Q58.466 1345.68 57.2247 1343.55 Z\" fill=\"#000000\" fill-rule=\"evenodd\" fill-opacity=\"1\" /><path clip-path=\"url(#clip160)\" d=\"M14.479 1325.69 L14.479 1319.84 L64.0042 1319.84 L64.0042 1325.69 L14.479 1325.69 Z\" fill=\"#000000\" fill-rule=\"evenodd\" fill-opacity=\"1\" /><path clip-path=\"url(#clip160)\" d=\"M32.4621 1293.77 Q32.4621 1298.48 36.1542 1301.22 Q39.8145 1303.96 46.212 1303.96 Q52.6095 1303.96 56.3017 1301.25 Q59.9619 1298.51 59.9619 1293.77 Q59.9619 1289.09 56.2698 1286.35 Q52.5777 1283.62 46.212 1283.62 Q39.8781 1283.62 36.186 1286.35 Q32.4621 1289.09 32.4621 1293.77 M27.4968 1293.77 Q27.4968 1286.13 32.4621 1281.77 Q37.4273 1277.41 46.212 1277.41 Q54.9649 1277.41 59.9619 1281.77 Q64.9272 1286.13 64.9272 1293.77 Q64.9272 1301.44 59.9619 1305.8 Q54.9649 1310.13 46.212 1310.13 Q37.4273 1310.13 32.4621 1305.8 Q27.4968 1301.44 27.4968 1293.77 Z\" fill=\"#000000\" fill-rule=\"evenodd\" fill-opacity=\"1\" /><path clip-path=\"url(#clip160)\" d=\"M46.212 1242.11 Q39.7508 1242.11 36.0905 1244.79 Q32.3984 1247.43 32.3984 1252.08 Q32.3984 1256.72 36.0905 1259.4 Q39.7508 1262.04 46.212 1262.04 Q52.6732 1262.04 56.3653 1259.4 Q60.0256 1256.72 60.0256 1252.08 Q60.0256 1247.43 56.3653 1244.79 Q52.6732 1242.11 46.212 1242.11 M33.7671 1262.04 Q30.5842 1260.19 29.0564 1257.39 Q27.4968 1254.56 27.4968 1250.64 Q27.4968 1244.15 32.6531 1240.11 Q37.8093 1236.03 46.212 1236.03 Q54.6147 1236.03 59.771 1240.11 Q64.9272 1244.15 64.9272 1250.64 Q64.9272 1254.56 63.3994 1257.39 Q61.8398 1260.19 58.657 1262.04 L64.0042 1262.04 L64.0042 1267.93 L14.479 1267.93 L14.479 1262.04 L33.7671 1262.04 Z\" fill=\"#000000\" fill-rule=\"evenodd\" fill-opacity=\"1\" /><path clip-path=\"url(#clip160)\" d=\"M46.0847 1210.13 Q46.0847 1217.22 47.7079 1219.96 Q49.3312 1222.7 53.2461 1222.7 Q56.3653 1222.7 58.2114 1220.66 Q60.0256 1218.59 60.0256 1215.06 Q60.0256 1210.19 56.5881 1207.26 Q53.1188 1204.3 47.3897 1204.3 L46.0847 1204.3 L46.0847 1210.13 M43.6657 1198.44 L64.0042 1198.44 L64.0042 1204.3 L58.5933 1204.3 Q61.8398 1206.31 63.3994 1209.3 Q64.9272 1212.29 64.9272 1216.62 Q64.9272 1222.09 61.8716 1225.34 Q58.7843 1228.55 53.6281 1228.55 Q47.6125 1228.55 44.5569 1224.54 Q41.5014 1220.5 41.5014 1212.51 L41.5014 1204.3 L40.9285 1204.3 Q36.8862 1204.3 34.6901 1206.97 Q32.4621 1209.62 32.4621 1214.42 Q32.4621 1217.48 33.1941 1220.37 Q33.9262 1223.27 35.3903 1225.94 L29.9795 1225.94 Q28.7381 1222.73 28.1334 1219.71 Q27.4968 1216.68 27.4968 1213.82 Q27.4968 1206.08 31.5072 1202.26 Q35.5176 1198.44 43.6657 1198.44 Z\" fill=\"#000000\" fill-rule=\"evenodd\" fill-opacity=\"1\" /><path clip-path=\"url(#clip160)\" d=\"M14.479 1186.38 L14.479 1180.52 L64.0042 1180.52 L64.0042 1186.38 L14.479 1186.38 Z\" fill=\"#000000\" fill-rule=\"evenodd\" fill-opacity=\"1\" /><path clip-path=\"url(#clip160)\" d=\"M16.4842 1147.3 L16.4842 1137.72 L48.8219 1125.59 L16.4842 1113.4 L16.4842 1103.82 L64.0042 1103.82 L64.0042 1110.09 L22.277 1110.09 L54.8694 1122.34 L54.8694 1128.8 L22.277 1141.06 L64.0042 1141.06 L64.0042 1147.3 L16.4842 1147.3 Z\" fill=\"#000000\" fill-rule=\"evenodd\" fill-opacity=\"1\" /><path clip-path=\"url(#clip160)\" d=\"M44.7161 1060.82 L47.5806 1060.82 L47.5806 1087.74 Q53.6281 1087.36 56.8109 1084.12 Q59.9619 1080.84 59.9619 1075.01 Q59.9619 1071.64 59.1344 1068.49 Q58.3069 1065.31 56.6518 1062.19 L62.1899 1062.19 Q63.5267 1065.34 64.227 1068.65 Q64.9272 1071.96 64.9272 1075.36 Q64.9272 1083.89 59.9619 1088.89 Q54.9967 1093.86 46.5303 1093.86 Q37.7774 1093.86 32.6531 1089.15 Q27.4968 1084.4 27.4968 1076.38 Q27.4968 1069.19 32.1438 1065.02 Q36.7589 1060.82 44.7161 1060.82 M42.9973 1066.67 Q38.1912 1066.74 35.3266 1069.38 Q32.4621 1071.99 32.4621 1076.32 Q32.4621 1081.22 35.2312 1084.18 Q38.0002 1087.11 43.0292 1087.55 L42.9973 1066.67 Z\" fill=\"#000000\" fill-rule=\"evenodd\" fill-opacity=\"1\" /><path clip-path=\"url(#clip160)\" d=\"M46.0847 1035 Q46.0847 1042.1 47.7079 1044.84 Q49.3312 1047.58 53.2461 1047.58 Q56.3653 1047.58 58.2114 1045.54 Q60.0256 1043.47 60.0256 1039.94 Q60.0256 1035.07 56.5881 1032.14 Q53.1188 1029.18 47.3897 1029.18 L46.0847 1029.18 L46.0847 1035 M43.6657 1023.32 L64.0042 1023.32 L64.0042 1029.18 L58.5933 1029.18 Q61.8398 1031.19 63.3994 1034.18 Q64.9272 1037.17 64.9272 1041.5 Q64.9272 1046.97 61.8716 1050.22 Q58.7843 1053.43 53.6281 1053.43 Q47.6125 1053.43 44.5569 1049.42 Q41.5014 1045.38 41.5014 1037.39 L41.5014 1029.18 L40.9285 1029.18 Q36.8862 1029.18 34.6901 1031.85 Q32.4621 1034.5 32.4621 1039.3 Q32.4621 1042.36 33.1941 1045.25 Q33.9262 1048.15 35.3903 1050.82 L29.9795 1050.82 Q28.7381 1047.61 28.1334 1044.59 Q27.4968 1041.56 27.4968 1038.7 Q27.4968 1030.96 31.5072 1027.14 Q35.5176 1023.32 43.6657 1023.32 Z\" fill=\"#000000\" fill-rule=\"evenodd\" fill-opacity=\"1\" /><path clip-path=\"url(#clip160)\" d=\"M42.4881 981.628 L64.0042 981.628 L64.0042 987.485 L42.679 987.485 Q37.6183 987.485 35.1038 989.458 Q32.5894 991.432 32.5894 995.378 Q32.5894 1000.12 35.6131 1002.86 Q38.6368 1005.6 43.8567 1005.6 L64.0042 1005.6 L64.0042 1011.48 L28.3562 1011.48 L28.3562 1005.6 L33.8944 1005.6 Q30.6797 1003.49 29.0883 1000.66 Q27.4968 997.797 27.4968 994.073 Q27.4968 987.931 31.3163 984.779 Q35.1038 981.628 42.4881 981.628 Z\" fill=\"#000000\" fill-rule=\"evenodd\" fill-opacity=\"1\" /><path clip-path=\"url(#clip160)\" d=\"M16.4842 955.561 L16.4842 915.361 L21.895 915.361 L21.895 932.231 L64.0042 932.231 L64.0042 938.692 L21.895 938.692 L21.895 955.561 L16.4842 955.561 Z\" fill=\"#000000\" fill-rule=\"evenodd\" fill-opacity=\"1\" /><path clip-path=\"url(#clip160)\" d=\"M44.7161 889.994 L47.5806 889.994 L47.5806 916.921 Q53.6281 916.539 56.8109 913.293 Q59.9619 910.014 59.9619 904.19 Q59.9619 900.816 59.1344 897.665 Q58.3069 894.482 56.6518 891.363 L62.1899 891.363 Q63.5267 894.514 64.227 897.824 Q64.9272 901.134 64.9272 904.54 Q64.9272 913.07 59.9619 918.067 Q54.9967 923.032 46.5303 923.032 Q37.7774 923.032 32.6531 918.322 Q27.4968 913.579 27.4968 905.558 Q27.4968 898.365 32.1438 894.195 Q36.7589 889.994 44.7161 889.994 M42.9973 895.851 Q38.1912 895.914 35.3266 898.556 Q32.4621 901.166 32.4621 905.495 Q32.4621 910.396 35.2312 913.356 Q38.0002 916.284 43.0292 916.73 L42.9973 895.851 Z\" fill=\"#000000\" fill-rule=\"evenodd\" fill-opacity=\"1\" /><path clip-path=\"url(#clip160)\" d=\"M35.1993 852.627 Q31.2526 850.431 29.3747 847.376 Q27.4968 844.32 27.4968 840.182 Q27.4968 834.612 31.4117 831.589 Q35.2948 828.565 42.4881 828.565 L64.0042 828.565 L64.0042 834.453 L42.679 834.453 Q37.5546 834.453 35.072 836.268 Q32.5894 838.082 32.5894 841.806 Q32.5894 846.357 35.6131 848.999 Q38.6368 851.641 43.8567 851.641 L64.0042 851.641 L64.0042 857.529 L42.679 857.529 Q37.5228 857.529 35.072 859.343 Q32.5894 861.157 32.5894 864.945 Q32.5894 869.433 35.6449 872.075 Q38.6686 874.716 43.8567 874.716 L64.0042 874.716 L64.0042 880.605 L28.3562 880.605 L28.3562 874.716 L33.8944 874.716 Q30.616 872.711 29.0564 869.91 Q27.4968 867.109 27.4968 863.258 Q27.4968 859.375 29.4702 856.67 Q31.4436 853.932 35.1993 852.627 Z\" fill=\"#000000\" fill-rule=\"evenodd\" fill-opacity=\"1\" /><path clip-path=\"url(#clip160)\" d=\"M58.657 811.219 L77.5631 811.219 L77.5631 817.107 L28.3562 817.107 L28.3562 811.219 L33.7671 811.219 Q30.5842 809.372 29.0564 806.572 Q27.4968 803.739 27.4968 799.824 Q27.4968 793.331 32.6531 789.289 Q37.8093 785.215 46.212 785.215 Q54.6147 785.215 59.771 789.289 Q64.9272 793.331 64.9272 799.824 Q64.9272 803.739 63.3994 806.572 Q61.8398 809.372 58.657 811.219 M46.212 791.294 Q39.7508 791.294 36.0905 793.967 Q32.3984 796.609 32.3984 801.256 Q32.3984 805.903 36.0905 808.577 Q39.7508 811.219 46.212 811.219 Q52.6732 811.219 56.3653 808.577 Q60.0256 805.903 60.0256 801.256 Q60.0256 796.609 56.3653 793.967 Q52.6732 791.294 46.212 791.294 Z\" fill=\"#000000\" fill-rule=\"evenodd\" fill-opacity=\"1\" /><path clip-path=\"url(#clip160)\" d=\"M44.7161 745.015 L47.5806 745.015 L47.5806 771.942 Q53.6281 771.56 56.8109 768.314 Q59.9619 765.035 59.9619 759.211 Q59.9619 755.837 59.1344 752.686 Q58.3069 749.503 56.6518 746.384 L62.1899 746.384 Q63.5267 749.535 64.227 752.845 Q64.9272 756.155 64.9272 759.561 Q64.9272 768.091 59.9619 773.088 Q54.9967 778.053 46.5303 778.053 Q37.7774 778.053 32.6531 773.343 Q27.4968 768.6 27.4968 760.579 Q27.4968 753.386 32.1438 749.217 Q36.7589 745.015 44.7161 745.015 M42.9973 750.872 Q38.1912 750.935 35.3266 753.577 Q32.4621 756.187 32.4621 760.516 Q32.4621 765.417 35.2312 768.377 Q38.0002 771.306 43.0292 771.751 L42.9973 750.872 Z\" fill=\"#000000\" fill-rule=\"evenodd\" fill-opacity=\"1\" /><path clip-path=\"url(#clip160)\" d=\"M33.8307 714.746 Q33.2578 715.733 33.0032 716.911 Q32.7167 718.056 32.7167 719.457 Q32.7167 724.422 35.9632 727.096 Q39.1779 729.737 45.2253 729.737 L64.0042 729.737 L64.0042 735.626 L28.3562 735.626 L28.3562 729.737 L33.8944 729.737 Q30.6479 727.891 29.0883 724.931 Q27.4968 721.971 27.4968 717.738 Q27.4968 717.133 27.5923 716.401 Q27.656 715.669 27.8151 714.778 L33.8307 714.746 Z\" fill=\"#000000\" fill-rule=\"evenodd\" fill-opacity=\"1\" /><path clip-path=\"url(#clip160)\" d=\"M46.0847 692.403 Q46.0847 699.5 47.7079 702.238 Q49.3312 704.975 53.2461 704.975 Q56.3653 704.975 58.2114 702.938 Q60.0256 700.869 60.0256 697.336 Q60.0256 692.466 56.5881 689.538 Q53.1188 686.578 47.3897 686.578 L46.0847 686.578 L46.0847 692.403 M43.6657 680.722 L64.0042 680.722 L64.0042 686.578 L58.5933 686.578 Q61.8398 688.583 63.3994 691.575 Q64.9272 694.567 64.9272 698.896 Q64.9272 704.37 61.8716 707.617 Q58.7843 710.831 53.6281 710.831 Q47.6125 710.831 44.5569 706.821 Q41.5014 702.779 41.5014 694.79 L41.5014 686.578 L40.9285 686.578 Q36.8862 686.578 34.6901 689.252 Q32.4621 691.893 32.4621 696.699 Q32.4621 699.755 33.1941 702.651 Q33.9262 705.548 35.3903 708.221 L29.9795 708.221 Q28.7381 705.007 28.1334 701.983 Q27.4968 698.959 27.4968 696.095 Q27.4968 688.36 31.5072 684.541 Q35.5176 680.722 43.6657 680.722 Z\" fill=\"#000000\" fill-rule=\"evenodd\" fill-opacity=\"1\" /><path clip-path=\"url(#clip160)\" d=\"M18.2347 662.866 L28.3562 662.866 L28.3562 650.803 L32.9077 650.803 L32.9077 662.866 L52.2594 662.866 Q56.6199 662.866 57.8613 661.688 Q59.1026 660.479 59.1026 656.818 L59.1026 650.803 L64.0042 650.803 L64.0042 656.818 Q64.0042 663.598 61.4897 666.176 Q58.9434 668.754 52.2594 668.754 L32.9077 668.754 L32.9077 673.051 L28.3562 673.051 L28.3562 668.754 L18.2347 668.754 L18.2347 662.866 Z\" fill=\"#000000\" fill-rule=\"evenodd\" fill-opacity=\"1\" /><path clip-path=\"url(#clip160)\" d=\"M49.9359 643.705 L28.3562 643.705 L28.3562 637.848 L49.7131 637.848 Q54.7739 637.848 57.3202 635.875 Q59.8346 633.902 59.8346 629.955 Q59.8346 625.213 56.8109 622.475 Q53.7872 619.706 48.5673 619.706 L28.3562 619.706 L28.3562 613.85 L64.0042 613.85 L64.0042 619.706 L58.5296 619.706 Q61.7762 621.839 63.3676 624.671 Q64.9272 627.472 64.9272 631.196 Q64.9272 637.339 61.1078 640.522 Q57.2883 643.705 49.9359 643.705 M27.4968 628.968 L27.4968 628.968 Z\" fill=\"#000000\" fill-rule=\"evenodd\" fill-opacity=\"1\" /><path clip-path=\"url(#clip160)\" d=\"M33.8307 581.13 Q33.2578 582.117 33.0032 583.294 Q32.7167 584.44 32.7167 585.841 Q32.7167 590.806 35.9632 593.48 Q39.1779 596.121 45.2253 596.121 L64.0042 596.121 L64.0042 602.01 L28.3562 602.01 L28.3562 596.121 L33.8944 596.121 Q30.6479 594.275 29.0883 591.315 Q27.4968 588.355 27.4968 584.122 Q27.4968 583.517 27.5923 582.785 Q27.656 582.053 27.8151 581.162 L33.8307 581.13 Z\" fill=\"#000000\" fill-rule=\"evenodd\" fill-opacity=\"1\" /><path clip-path=\"url(#clip160)\" d=\"M44.7161 545.928 L47.5806 545.928 L47.5806 572.855 Q53.6281 572.473 56.8109 569.226 Q59.9619 565.948 59.9619 560.123 Q59.9619 556.749 59.1344 553.598 Q58.3069 550.416 56.6518 547.296 L62.1899 547.296 Q63.5267 550.447 64.227 553.758 Q64.9272 557.068 64.9272 560.473 Q64.9272 569.003 59.9619 574 Q54.9967 578.966 46.5303 578.966 Q37.7774 578.966 32.6531 574.255 Q27.4968 569.513 27.4968 561.492 Q27.4968 554.299 32.1438 550.129 Q36.7589 545.928 44.7161 545.928 M42.9973 551.784 Q38.1912 551.848 35.3266 554.49 Q32.4621 557.099 32.4621 561.428 Q32.4621 566.33 35.2312 569.29 Q38.0002 572.218 43.0292 572.664 L42.9973 551.784 Z\" fill=\"#000000\" fill-rule=\"evenodd\" fill-opacity=\"1\" /><path clip-path=\"url(#clip160)\" d=\"M22.818 499.458 L46.4666 508.179 L46.4666 490.705 L22.818 499.458 M16.4842 503.086 L16.4842 495.798 L64.0042 477.687 L64.0042 484.371 L51.8138 488.7 L51.8138 510.121 L64.0042 514.449 L64.0042 521.229 L16.4842 503.086 Z\" fill=\"#000000\" fill-rule=\"evenodd\" fill-opacity=\"1\" /><path clip-path=\"url(#clip160)\" d=\"M42.4881 441.371 L64.0042 441.371 L64.0042 447.227 L42.679 447.227 Q37.6183 447.227 35.1038 449.201 Q32.5894 451.174 32.5894 455.121 Q32.5894 459.863 35.6131 462.601 Q38.6368 465.338 43.8567 465.338 L64.0042 465.338 L64.0042 471.226 L28.3562 471.226 L28.3562 465.338 L33.8944 465.338 Q30.6797 463.237 29.0883 460.404 Q27.4968 457.54 27.4968 453.816 Q27.4968 447.673 31.3163 444.522 Q35.1038 441.371 42.4881 441.371 Z\" fill=\"#000000\" fill-rule=\"evenodd\" fill-opacity=\"1\" /><path clip-path=\"url(#clip160)\" d=\"M32.4621 415.876 Q32.4621 420.587 36.1542 423.324 Q39.8145 426.061 46.212 426.061 Q52.6095 426.061 56.3017 423.356 Q59.9619 420.619 59.9619 415.876 Q59.9619 411.198 56.2698 408.46 Q52.5777 405.723 46.212 405.723 Q39.8781 405.723 36.186 408.46 Q32.4621 411.198 32.4621 415.876 M27.4968 415.876 Q27.4968 408.237 32.4621 403.877 Q37.4273 399.516 46.212 399.516 Q54.9649 399.516 59.9619 403.877 Q64.9272 408.237 64.9272 415.876 Q64.9272 423.547 59.9619 427.907 Q54.9649 432.236 46.212 432.236 Q37.4273 432.236 32.4621 427.907 Q27.4968 423.547 27.4968 415.876 Z\" fill=\"#000000\" fill-rule=\"evenodd\" fill-opacity=\"1\" /><path clip-path=\"url(#clip160)\" d=\"M35.1993 362.054 Q31.2526 359.858 29.3747 356.803 Q27.4968 353.747 27.4968 349.609 Q27.4968 344.039 31.4117 341.016 Q35.2948 337.992 42.4881 337.992 L64.0042 337.992 L64.0042 343.88 L42.679 343.88 Q37.5546 343.88 35.072 345.694 Q32.5894 347.509 32.5894 351.233 Q32.5894 355.784 35.6131 358.426 Q38.6368 361.068 43.8567 361.068 L64.0042 361.068 L64.0042 366.956 L42.679 366.956 Q37.5228 366.956 35.072 368.77 Q32.5894 370.584 32.5894 374.372 Q32.5894 378.86 35.6449 381.501 Q38.6686 384.143 43.8567 384.143 L64.0042 384.143 L64.0042 390.032 L28.3562 390.032 L28.3562 384.143 L33.8944 384.143 Q30.616 382.138 29.0564 379.337 Q27.4968 376.536 27.4968 372.685 Q27.4968 368.802 29.4702 366.096 Q31.4436 363.359 35.1993 362.054 Z\" fill=\"#000000\" fill-rule=\"evenodd\" fill-opacity=\"1\" /><path clip-path=\"url(#clip160)\" d=\"M46.0847 310.11 Q46.0847 317.208 47.7079 319.945 Q49.3312 322.682 53.2461 322.682 Q56.3653 322.682 58.2114 320.645 Q60.0256 318.576 60.0256 315.044 Q60.0256 310.174 56.5881 307.246 Q53.1188 304.285 47.3897 304.285 L46.0847 304.285 L46.0847 310.11 M43.6657 298.429 L64.0042 298.429 L64.0042 304.285 L58.5933 304.285 Q61.8398 306.291 63.3994 309.283 Q64.9272 312.274 64.9272 316.603 Q64.9272 322.078 61.8716 325.324 Q58.7843 328.539 53.6281 328.539 Q47.6125 328.539 44.5569 324.528 Q41.5014 320.486 41.5014 312.497 L41.5014 304.285 L40.9285 304.285 Q36.8862 304.285 34.6901 306.959 Q32.4621 309.601 32.4621 314.407 Q32.4621 317.462 33.1941 320.359 Q33.9262 323.255 35.3903 325.929 L29.9795 325.929 Q28.7381 322.714 28.1334 319.69 Q27.4968 316.667 27.4968 313.802 Q27.4968 306.068 31.5072 302.248 Q35.5176 298.429 43.6657 298.429 Z\" fill=\"#000000\" fill-rule=\"evenodd\" fill-opacity=\"1\" /><path clip-path=\"url(#clip160)\" d=\"M14.479 286.366 L14.479 280.51 L64.0042 280.51 L64.0042 286.366 L14.479 286.366 Z\" fill=\"#000000\" fill-rule=\"evenodd\" fill-opacity=\"1\" /><path clip-path=\"url(#clip160)\" d=\"M67.3143 253.423 Q73.68 255.906 75.6216 258.261 Q77.5631 260.617 77.5631 264.563 L77.5631 269.242 L72.6615 269.242 L72.6615 265.805 Q72.6615 263.386 71.5157 262.049 Q70.3699 260.712 66.1048 259.089 L63.4312 258.039 L28.3562 272.457 L28.3562 266.25 L56.238 255.11 L28.3562 243.97 L28.3562 237.764 L67.3143 253.423 Z\" fill=\"#000000\" fill-rule=\"evenodd\" fill-opacity=\"1\" /><path clip-path=\"url(#clip160)\" d=\"M14.5426 194.891 Q21.8632 199.156 29.0246 201.225 Q36.186 203.294 43.5384 203.294 Q50.8908 203.294 58.1159 201.225 Q65.3091 199.124 72.5979 194.891 L72.5979 199.983 Q65.1182 204.758 57.8931 207.145 Q50.668 209.5 43.5384 209.5 Q36.4406 209.5 29.2474 207.145 Q22.0542 204.789 14.5426 199.983 L14.5426 194.891 Z\" fill=\"#000000\" fill-rule=\"evenodd\" fill-opacity=\"1\" /><path clip-path=\"url(#clip160)\" d=\"M19.7307 173.375 Q19.7307 175.921 21.5131 177.672 Q23.2636 179.422 25.8099 179.422 Q28.3244 179.422 30.0749 177.672 Q31.7937 175.921 31.7937 173.375 Q31.7937 170.828 30.0749 169.078 Q28.3244 167.327 25.8099 167.327 Q23.2955 167.327 21.5131 169.11 Q19.7307 170.86 19.7307 173.375 M15.6248 173.375 Q15.6248 171.338 16.4205 169.46 Q17.1844 167.582 18.6485 166.213 Q20.0808 164.749 21.895 164.017 Q23.7092 163.285 25.8099 163.285 Q30.0113 163.285 32.9395 166.245 Q35.8359 169.173 35.8359 173.438 Q35.8359 177.735 32.9713 180.6 Q30.1068 183.464 25.8099 183.464 Q21.5449 183.464 18.5848 180.536 Q15.6248 177.608 15.6248 173.375 Z\" fill=\"#000000\" fill-rule=\"evenodd\" fill-opacity=\"1\" /><path clip-path=\"url(#clip160)\" d=\"M20.1444 115.097 L26.9239 115.097 Q23.9002 118.343 22.4043 122.035 Q20.9083 125.696 20.9083 129.833 Q20.9083 137.981 25.9054 142.31 Q30.8707 146.639 40.2919 146.639 Q49.6813 146.639 54.6784 142.31 Q59.6436 137.981 59.6436 129.833 Q59.6436 125.696 58.1477 122.035 Q56.6518 118.343 53.6281 115.097 L60.3439 115.097 Q62.6355 118.47 63.7814 122.258 Q64.9272 126.014 64.9272 130.215 Q64.9272 141.005 58.3387 147.212 Q51.7183 153.418 40.2919 153.418 Q28.8336 153.418 22.2451 147.212 Q15.6248 141.005 15.6248 130.215 Q15.6248 125.95 16.7706 122.194 Q17.8846 118.407 20.1444 115.097 Z\" fill=\"#000000\" fill-rule=\"evenodd\" fill-opacity=\"1\" /><path clip-path=\"url(#clip160)\" d=\"M14.5426 106.344 L14.5426 101.251 Q22.0542 96.477 29.2474 94.1217 Q36.4406 91.7345 43.5384 91.7345 Q50.668 91.7345 57.8931 94.1217 Q65.1182 96.477 72.5979 101.251 L72.5979 106.344 Q65.3091 102.111 58.1159 100.042 Q50.8908 97.9411 43.5384 97.9411 Q36.186 97.9411 29.0246 100.042 Q21.8632 102.111 14.5426 106.344 Z\" fill=\"#000000\" fill-rule=\"evenodd\" fill-opacity=\"1\" /><polyline clip-path=\"url(#clip162)\" style=\"stroke:#ff0000; stroke-linecap:round; stroke-linejoin:round; stroke-width:4; stroke-opacity:1; fill:none\" points=\"237.067,1315.2 245.283,1314.02 253.5,1312.82 261.716,1311.83 269.932,1311.13 278.149,1313.92 286.365,1327.38 294.581,1343.91 302.797,1347.69 311.014,1340.77 319.23,1332.18 327.446,1326.92 335.662,1325.81 343.879,1325.01 352.095,1322.48 360.311,1319.48 368.527,1317.05 376.744,1315.06 384.96,1312.83 393.176,1310.09 401.393,1307.14 409.609,1304.83 417.825,1304.22 426.041,1305.08 434.258,1306.09 442.474,1307.26 450.69,1309.2 458.906,1310.6 467.123,1310.61 475.339,1309.79 483.555,1308.52 491.771,1306.97 499.988,1308.1 508.204,1331.67 516.42,1369.48 524.637,1384.24 532.853,1381.79 541.069,1377.09 549.285,1372.11 557.502,1370.68 565.718,1371.3 573.934,1369.76 582.15,1363.66 590.367,1354.75 598.583,1345.11 606.799,1338.43 615.015,1337.78 623.232,1339.95 631.448,1339.08 639.664,1335.29 647.881,1331.08 656.097,1328.29 664.313,1337.16 672.529,1353.6 680.746,1358.25 688.962,1351.73 697.178,1343.97 705.394,1339.06 713.611,1335.29 721.827,1330.83 730.043,1326.8 738.259,1323.67 746.476,1327.1 754.692,1332.36 762.908,1330.05 771.125,1323.72 779.341,1316.97 787.557,1311.03 795.773,1306.3 803.99,1303.12 812.206,1303.13 820.422,1303.71 828.638,1301.78 836.855,1299.5 845.071,1297.63 853.287,1295.26 861.503,1292.21 869.72,1289.24 877.936,1288.06 886.152,1288.42 894.369,1287.87 902.585,1286.54 910.801,1286.22 919.017,1285.71 927.234,1283.72 935.45,1280.64 943.666,1276.73 951.882,1273.23 960.099,1270.65 968.315,1268.36 976.531,1266.05 984.747,1264.12 992.964,1263.39 1001.18,1263.09 1009.4,1261.77 1017.61,1259.37 1025.83,1256.39 1034.05,1253.5 1042.26,1250.83 1050.48,1249.05 1058.69,1248.42 1066.91,1248.78 1075.13,1249.71 1083.34,1250.69 1091.56,1251.03 1099.78,1249.63 1107.99,1246.27 1116.21,1241.84 1124.42,1237.92 1132.64,1235.17 1140.86,1235.18 1149.07,1238.38 1157.29,1243.41 1165.51,1259.01 1173.72,1279.96 1181.94,1287.23 1190.15,1281.16 1198.37,1271.98 1206.59,1269.52 1214.8,1269.41 1223.02,1262.65 1231.24,1252.19 1239.45,1242.75 1247.67,1236.72 1255.88,1235.78 1264.1,1237.28 1272.32,1234.33 1280.53,1226.08 1288.75,1217.56 1296.97,1209.15 1305.18,1199.98 1313.4,1194.13 1321.61,1206.7 1329.83,1224.7 1338.05,1224.49 1346.26,1215.32 1354.48,1206 1362.7,1197.02 1370.91,1186.89 1379.13,1175.87 1387.34,1165.96 1395.56,1181.27 1403.78,1209.37 1411.99,1212.47 1420.21,1199.01 1428.43,1183.34 1436.64,1169.42 1444.86,1157.12 1453.07,1145.16 1461.29,1133.14 1469.51,1121.97 1477.72,1112.2 1485.94,1103.95 1494.16,1097.46 1502.37,1092.32 1510.59,1088.79 1518.8,1087.71 1527.02,1087.13 1535.24,1084.97 1543.45,1080.23 1551.67,1072.96 1559.89,1064.97 1568.1,1057.21 1576.32,1050.19 1584.53,1044.36 1592.75,1039.39 1600.97,1034.56 1609.18,1029.48 1617.4,1024.07 1625.62,1018.28 1633.83,1010.82 1642.05,1001.28 1650.27,991.1 1658.48,981.171 1666.7,972.039 1674.91,964.154 1683.13,957.187 1691.35,950.42 1699.56,943.482 1707.78,936.28 1716,928.728 1724.21,919.491 1732.43,908.169 1740.64,896.225 1748.86,884.505 1757.08,873.548 1765.29,863.803 1773.51,854.94 1781.73,846.242 1789.94,837.341 1798.16,828.153 1806.37,818.659 1814.59,807.596 1822.81,794.562 1831.02,780.976 1839.24,767.674 1847.46,755.185 1855.67,743.948 1863.89,733.627 1872.1,723.496 1880.32,713.213 1888.54,702.736 1896.75,692.035 1904.97,679.828 1913.19,665.718 1921.4,651.125 1929.62,636.882 1937.83,623.519 1946.05,611.474 1954.27,600.408 1962.48,589.601 1970.7,578.693 1978.92,567.599 1987.13,556.286 1995.35,543.5 2003.56,528.86 2011.78,513.792 2020,499.135 2028.21,485.422 2036.43,473.092 2044.65,461.811 2052.86,450.864 2061.08,439.883 2069.29,428.767 2077.51,417.472 2085.73,404.738 2093.94,390.178 2102.16,375.215 2110.38,360.686 2118.59,347.121 2126.81,334.933 2135.02,323.738 2143.24,312.803 2151.46,301.778 2159.67,290.576 2167.89,279.162 2176.11,266.281 2184.32,251.551 2192.54,236.399 2200.75,221.664 2208.97,207.903 2217.19,195.6 2225.4,184.432 2233.62,173.664 2241.84,162.915 2250.05,152.084 2258.27,141.125 2266.49,128.776 2274.7,114.649 2282.92,100.168 2291.13,86.1857 \"/>\n</svg>\n"
     },
     "execution_count": 25,
     "metadata": {},
     "output_type": "execute_result"
    }
   ],
   "source": [
    "query_years = 1850:2100\n",
    "temps = query_temperature(m, model_years, query_years)\n",
    "plot(query_years, temps, color=:red, label=:false) # set label=:false because we're only plotting one line; use label=\"Legend Text\" when you want to create a legend entry \n",
    "xlabel!(\"Year\")\n",
    "ylabel!(\"Global Mean Temperature Anomaly (°C)\")"
   ]
  },
  {
   "attachments": {},
   "cell_type": "markdown",
   "metadata": {},
   "source": [
    "Let's now look at how to generate and plot uncertainty intervals. We'll subsample 1,000 parameter combinations from the parameter set, run the model over that sample, and then plot the central 95% interval each year on top of the \"best estimate\" line above. "
   ]
  },
  {
   "cell_type": "markdown",
   "metadata": {},
   "source": []
  },
  {
   "cell_type": "code",
   "execution_count": null,
   "metadata": {},
   "outputs": [],
   "source": []
  },
  {
   "cell_type": "code",
   "execution_count": 26,
   "metadata": {},
   "outputs": [
    {
     "data": {
      "text/plain": [
       "1000×251 Matrix{Float64}:\n",
       " 0.0  0.0  0.0  0.0  0.0  0.0  0.0  0.0  …  0.0  0.0  0.0  0.0  0.0  0.0  0.0\n",
       " 0.0  0.0  0.0  0.0  0.0  0.0  0.0  0.0     0.0  0.0  0.0  0.0  0.0  0.0  0.0\n",
       " 0.0  0.0  0.0  0.0  0.0  0.0  0.0  0.0     0.0  0.0  0.0  0.0  0.0  0.0  0.0\n",
       " 0.0  0.0  0.0  0.0  0.0  0.0  0.0  0.0     0.0  0.0  0.0  0.0  0.0  0.0  0.0\n",
       " 0.0  0.0  0.0  0.0  0.0  0.0  0.0  0.0     0.0  0.0  0.0  0.0  0.0  0.0  0.0\n",
       " 0.0  0.0  0.0  0.0  0.0  0.0  0.0  0.0  …  0.0  0.0  0.0  0.0  0.0  0.0  0.0\n",
       " 0.0  0.0  0.0  0.0  0.0  0.0  0.0  0.0     0.0  0.0  0.0  0.0  0.0  0.0  0.0\n",
       " 0.0  0.0  0.0  0.0  0.0  0.0  0.0  0.0     0.0  0.0  0.0  0.0  0.0  0.0  0.0\n",
       " 0.0  0.0  0.0  0.0  0.0  0.0  0.0  0.0     0.0  0.0  0.0  0.0  0.0  0.0  0.0\n",
       " 0.0  0.0  0.0  0.0  0.0  0.0  0.0  0.0     0.0  0.0  0.0  0.0  0.0  0.0  0.0\n",
       " 0.0  0.0  0.0  0.0  0.0  0.0  0.0  0.0  …  0.0  0.0  0.0  0.0  0.0  0.0  0.0\n",
       " 0.0  0.0  0.0  0.0  0.0  0.0  0.0  0.0     0.0  0.0  0.0  0.0  0.0  0.0  0.0\n",
       " 0.0  0.0  0.0  0.0  0.0  0.0  0.0  0.0     0.0  0.0  0.0  0.0  0.0  0.0  0.0\n",
       " ⋮                        ⋮              ⋱       ⋮                        ⋮\n",
       " 0.0  0.0  0.0  0.0  0.0  0.0  0.0  0.0     0.0  0.0  0.0  0.0  0.0  0.0  0.0\n",
       " 0.0  0.0  0.0  0.0  0.0  0.0  0.0  0.0     0.0  0.0  0.0  0.0  0.0  0.0  0.0\n",
       " 0.0  0.0  0.0  0.0  0.0  0.0  0.0  0.0  …  0.0  0.0  0.0  0.0  0.0  0.0  0.0\n",
       " 0.0  0.0  0.0  0.0  0.0  0.0  0.0  0.0     0.0  0.0  0.0  0.0  0.0  0.0  0.0\n",
       " 0.0  0.0  0.0  0.0  0.0  0.0  0.0  0.0     0.0  0.0  0.0  0.0  0.0  0.0  0.0\n",
       " 0.0  0.0  0.0  0.0  0.0  0.0  0.0  0.0     0.0  0.0  0.0  0.0  0.0  0.0  0.0\n",
       " 0.0  0.0  0.0  0.0  0.0  0.0  0.0  0.0     0.0  0.0  0.0  0.0  0.0  0.0  0.0\n",
       " 0.0  0.0  0.0  0.0  0.0  0.0  0.0  0.0  …  0.0  0.0  0.0  0.0  0.0  0.0  0.0\n",
       " 0.0  0.0  0.0  0.0  0.0  0.0  0.0  0.0     0.0  0.0  0.0  0.0  0.0  0.0  0.0\n",
       " 0.0  0.0  0.0  0.0  0.0  0.0  0.0  0.0     0.0  0.0  0.0  0.0  0.0  0.0  0.0\n",
       " 0.0  0.0  0.0  0.0  0.0  0.0  0.0  0.0     0.0  0.0  0.0  0.0  0.0  0.0  0.0\n",
       " 0.0  0.0  0.0  0.0  0.0  0.0  0.0  0.0     0.0  0.0  0.0  0.0  0.0  0.0  0.0"
      ]
     },
     "execution_count": 26,
     "metadata": {},
     "output_type": "execute_result"
    }
   ],
   "source": [
    "# load StatsBase package to sample with replacement\n",
    "using StatsBase\n",
    "using Random\n",
    "\n",
    "Random.seed!(1)\n",
    "\n",
    "n_sample = 1000\n",
    "# get subsample\n",
    "sample_index = sample(1:nrow(parameters), n_sample, replace=true)\n",
    "param_sample = parameters[sample_index, :]\n",
    "\n",
    "# set up storage for temperatures\n",
    "temps = zeros(n_sample, length(query_years))\n",
    "\n",
    "# loop over parameters and get temperatures\n",
    "for i = 1:n_sample\n",
    "    set_sneasy_params!(m, )\n",
    "end"
   ]
  },
  {
   "cell_type": "markdown",
   "metadata": {},
   "source": [
    "## References\n",
    "\n",
    "Give credit to any consulted references here, whether they were your classmates, online resources, or anything else."
   ]
  }
 ],
 "metadata": {
  "kernelspec": {
   "display_name": "Julia 1.8.2",
   "language": "julia",
   "name": "julia-1.8"
  },
  "language_info": {
   "file_extension": ".jl",
   "mimetype": "application/julia",
   "name": "julia",
   "version": "1.8.2"
  }
 },
 "nbformat": 4,
 "nbformat_minor": 3
}
